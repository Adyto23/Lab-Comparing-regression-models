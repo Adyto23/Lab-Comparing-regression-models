{
 "cells": [
  {
   "cell_type": "code",
   "execution_count": 1,
   "id": "90f48258",
   "metadata": {},
   "outputs": [],
   "source": [
    "from bs4 import BeautifulSoup\n",
    "import requests\n",
    "import pandas as pd\n"
   ]
  },
  {
   "cell_type": "code",
   "execution_count": 2,
   "id": "a9a31c65",
   "metadata": {},
   "outputs": [],
   "source": [
    "# 2. find url and store it in a variable\n",
    "url = \"https://www.popvortex.com/music/charts/top-100-songs.php\""
   ]
  },
  {
   "cell_type": "code",
   "execution_count": 3,
   "id": "49f48f64",
   "metadata": {},
   "outputs": [],
   "source": [
    "response = requests.get(url)\n"
   ]
  },
  {
   "cell_type": "code",
   "execution_count": 4,
   "id": "90d4c01d",
   "metadata": {},
   "outputs": [
    {
     "data": {
      "text/plain": [
       "200"
      ]
     },
     "execution_count": 4,
     "metadata": {},
     "output_type": "execute_result"
    }
   ],
   "source": [
    "response.status_code # 200 status code means OK!"
   ]
  },
  {
   "cell_type": "code",
   "execution_count": 5,
   "id": "fef602f2",
   "metadata": {},
   "outputs": [],
   "source": [
    "soup = BeautifulSoup(response.content, \"html.parser\")"
   ]
  },
  {
   "cell_type": "code",
   "execution_count": 6,
   "id": "90c3df81",
   "metadata": {},
   "outputs": [
    {
     "data": {
      "text/plain": [
       "[<p class=\"title-artist\"><cite class=\"title\">Flowers</cite><em class=\"artist\">Miley Cyrus</em></p>]"
      ]
     },
     "execution_count": 6,
     "metadata": {},
     "output_type": "execute_result"
    }
   ],
   "source": [
    "soup.select(\"#chart-position-1 > div.chart-content.col-xs-12.col-sm-8 > p\")"
   ]
  },
  {
   "cell_type": "code",
   "execution_count": 7,
   "id": "ebe3bbe6",
   "metadata": {
    "scrolled": false
   },
   "outputs": [
    {
     "data": {
      "text/plain": [
       "[<p class=\"title-artist\"><cite class=\"title\">Flowers</cite><em class=\"artist\">Miley Cyrus</em></p>,\n",
       " <p class=\"title-artist\"><cite class=\"title\">Last Night</cite><em class=\"artist\">Morgan Wallen</em></p>,\n",
       " <p class=\"title-artist\"><cite class=\"title\">Fast Car</cite><em class=\"artist\">Luke Combs</em></p>,\n",
       " <p class=\"title-artist\"><cite class=\"title\">Like Crazy (Deep House Remix)</cite><em class=\"artist\">Jimin</em></p>,\n",
       " <p class=\"title-artist\"><cite class=\"title\">Like Crazy (UK Garage Remix)</cite><em class=\"artist\">Jimin</em></p>,\n",
       " <p class=\"title-artist\"><cite class=\"title\">Like Crazy (Instrumental)</cite><em class=\"artist\">Jimin</em></p>,\n",
       " <p class=\"title-artist\"><cite class=\"title\">Calm Down</cite><em class=\"artist\">Rema &amp; Selena Gomez</em></p>,\n",
       " <p class=\"title-artist\"><cite class=\"title\">Like Crazy (English Version)</cite><em class=\"artist\">Jimin</em></p>,\n",
       " <p class=\"title-artist\"><cite class=\"title\">Like Crazy</cite><em class=\"artist\">Jimin</em></p>,\n",
       " <p class=\"title-artist\"><cite class=\"title\">Justice for All</cite><em class=\"artist\">Donald J. Trump &amp; J6 Prison Choir</em></p>,\n",
       " <p class=\"title-artist\"><cite class=\"title\">Heart Like A Truck</cite><em class=\"artist\">Lainey Wilson</em></p>,\n",
       " <p class=\"title-artist\"><cite class=\"title\">Eyes Closed</cite><em class=\"artist\">Ed Sheeran</em></p>,\n",
       " <p class=\"title-artist\"><cite class=\"title\">Fighting Myself</cite><em class=\"artist\">LINKIN PARK</em></p>,\n",
       " <p class=\"title-artist\"><cite class=\"title\">You Say</cite><em class=\"artist\">Lauren Daigle</em></p>,\n",
       " <p class=\"title-artist\"><cite class=\"title\">Growin' Up and Gettin' Old</cite><em class=\"artist\">Luke Combs</em></p>,\n",
       " <p class=\"title-artist\"><cite class=\"title\">Thought You Should Know</cite><em class=\"artist\">Morgan Wallen</em></p>,\n",
       " <p class=\"title-artist\"><cite class=\"title\">Thinkin’ Bout Me</cite><em class=\"artist\">Morgan Wallen</em></p>,\n",
       " <p class=\"title-artist\"><cite class=\"title\">Anti-Hero</cite><em class=\"artist\">Taylor Swift</em></p>,\n",
       " <p class=\"title-artist\"><cite class=\"title\">5 Leaf Clover</cite><em class=\"artist\">Luke Combs</em></p>,\n",
       " <p class=\"title-artist\"><cite class=\"title\">Love You Anyway</cite><em class=\"artist\">Luke Combs</em></p>,\n",
       " <p class=\"title-artist\"><cite class=\"title\">Players</cite><em class=\"artist\">Coi Leray</em></p>,\n",
       " <p class=\"title-artist\"><cite class=\"title\">labour</cite><em class=\"artist\">Paris Paloma</em></p>,\n",
       " <p class=\"title-artist\"><cite class=\"title\">Thank God</cite><em class=\"artist\">Kane Brown &amp; Katelyn Brown</em></p>,\n",
       " <p class=\"title-artist\"><cite class=\"title\">Thank God I Do</cite><em class=\"artist\">Lauren Daigle</em></p>,\n",
       " <p class=\"title-artist\"><cite class=\"title\">More Than Able (feat. Chandler Moore &amp; Tiffany Hudson)</cite><em class=\"artist\">Elevation Worship</em></p>,\n",
       " <p class=\"title-artist\"><cite class=\"title\">God's Country</cite><em class=\"artist\">Blake Shelton</em></p>,\n",
       " <p class=\"title-artist\"><cite class=\"title\">Rock and a Hard Place</cite><em class=\"artist\">Bailey Zimmerman</em></p>,\n",
       " <p class=\"title-artist\"><cite class=\"title\">wait in the truck</cite><em class=\"artist\">HARDY &amp; Lainey Wilson</em></p>,\n",
       " <p class=\"title-artist\"><cite class=\"title\">End of the World</cite><em class=\"artist\">Tom MacDonald &amp; John Rich</em></p>,\n",
       " <p class=\"title-artist\"><cite class=\"title\">This Is Our God</cite><em class=\"artist\">Phil Wickham</em></p>,\n",
       " <p class=\"title-artist\"><cite class=\"title\">Unstoppable</cite><em class=\"artist\">Sia</em></p>,\n",
       " <p class=\"title-artist\"><cite class=\"title\">Eyes Closed (Piano Version)</cite><em class=\"artist\">Ed Sheeran</em></p>,\n",
       " <p class=\"title-artist\"><cite class=\"title\">Favorite Song</cite><em class=\"artist\">Toosii</em></p>,\n",
       " <p class=\"title-artist\"><cite class=\"title\">Face-off</cite><em class=\"artist\">Jimin</em></p>,\n",
       " <p class=\"title-artist\"><cite class=\"title\">Kill Bill</cite><em class=\"artist\">SZA</em></p>,\n",
       " <p class=\"title-artist\"><cite class=\"title\">I Ain't Worried</cite><em class=\"artist\">OneRepublic</em></p>,\n",
       " <p class=\"title-artist\"><cite class=\"title\">Rescue</cite><em class=\"artist\">Lauren Daigle</em></p>,\n",
       " <p class=\"title-artist\"><cite class=\"title\">Eyes Closed</cite><em class=\"artist\">Ed Sheeran</em></p>,\n",
       " <p class=\"title-artist\"><cite class=\"title\">All Of The Girls You Loved Before</cite><em class=\"artist\">Taylor Swift</em></p>,\n",
       " <p class=\"title-artist\"><cite class=\"title\">NEED A FAVOR</cite><em class=\"artist\">Jelly Roll</em></p>,\n",
       " <p class=\"title-artist\"><cite class=\"title\">In Jesus Name (God Of Possible)</cite><em class=\"artist\">Katy Nichole</em></p>,\n",
       " <p class=\"title-artist\"><cite class=\"title\">Alone</cite><em class=\"artist\">Jimin</em></p>,\n",
       " <p class=\"title-artist\"><cite class=\"title\">You Proof</cite><em class=\"artist\">Morgan Wallen</em></p>,\n",
       " <p class=\"title-artist\"><cite class=\"title\">Set Me Free, Pt. 2</cite><em class=\"artist\">Jimin</em></p>,\n",
       " <p class=\"title-artist\"><cite class=\"title\">Look At Us Now (Honeycomb)</cite><em class=\"artist\">Daisy Jones &amp; The Six</em></p>,\n",
       " <p class=\"title-artist\"><cite class=\"title\">BESO</cite><em class=\"artist\">ROSALÍA &amp; Rauw Alejandro</em></p>,\n",
       " <p class=\"title-artist\"><cite class=\"title\">Wasted On You</cite><em class=\"artist\">Morgan Wallen</em></p>,\n",
       " <p class=\"title-artist\"><cite class=\"title\">Something in the Orange (Z&amp;E's Version)</cite><em class=\"artist\">Zach Bryan</em></p>,\n",
       " <p class=\"title-artist\"><cite class=\"title\">TRUSTFALL</cite><em class=\"artist\">P!nk</em></p>,\n",
       " <p class=\"title-artist\"><cite class=\"title\">Bright Eyes</cite><em class=\"artist\">Timcast</em></p>,\n",
       " <p class=\"title-artist\"><cite class=\"title\">As It Was</cite><em class=\"artist\">Harry Styles</em></p>,\n",
       " <p class=\"title-artist\"><cite class=\"title\">Gratitude</cite><em class=\"artist\">Brandon Lake</em></p>,\n",
       " <p class=\"title-artist\"><cite class=\"title\">Sure Thing</cite><em class=\"artist\">Miguel</em></p>,\n",
       " <p class=\"title-artist\"><cite class=\"title\">Interlude : Dive</cite><em class=\"artist\">Jimin</em></p>,\n",
       " <p class=\"title-artist\"><cite class=\"title\">Lift Me Up (From Black Panther: Wakanda Forever - Music From and Inspired By)</cite><em class=\"artist\">Rihanna</em></p>,\n",
       " <p class=\"title-artist\"><cite class=\"title\">Chasin' You</cite><em class=\"artist\">Morgan Wallen</em></p>,\n",
       " <p class=\"title-artist\"><cite class=\"title\">Tennessee Whiskey</cite><em class=\"artist\">Chris Stapleton</em></p>,\n",
       " <p class=\"title-artist\"><cite class=\"title\">Son Of A Sinner</cite><em class=\"artist\">Jelly Roll</em></p>,\n",
       " <p class=\"title-artist\"><cite class=\"title\">Hold My Hand</cite><em class=\"artist\">Lady Gaga</em></p>,\n",
       " <p class=\"title-artist\"><cite class=\"title\">You Raise Me Up</cite><em class=\"artist\">Josh Groban</em></p>,\n",
       " <p class=\"title-artist\"><cite class=\"title\">Made You Look</cite><em class=\"artist\">Meghan Trainor</em></p>,\n",
       " <p class=\"title-artist\"><cite class=\"title\">TQG</cite><em class=\"artist\">KAROL G &amp; Shakira</em></p>,\n",
       " <p class=\"title-artist\"><cite class=\"title\">Lost</cite><em class=\"artist\">LINKIN PARK</em></p>,\n",
       " <p class=\"title-artist\"><cite class=\"title\">Mother</cite><em class=\"artist\">Meghan Trainor</em></p>,\n",
       " <p class=\"title-artist\"><cite class=\"title\">Dancin’ In The Country</cite><em class=\"artist\">Tyler Hubbard</em></p>,\n",
       " <p class=\"title-artist\"><cite class=\"title\">One Thing At A Time</cite><em class=\"artist\">Morgan Wallen</em></p>,\n",
       " <p class=\"title-artist\"><cite class=\"title\">ICU</cite><em class=\"artist\">Coco Jones</em></p>,\n",
       " <p class=\"title-artist\"><cite class=\"title\">Unholy</cite><em class=\"artist\">Sam Smith &amp; Kim Petras</em></p>,\n",
       " <p class=\"title-artist\"><cite class=\"title\">Heart Attack (Rock Version)</cite><em class=\"artist\">Demi Lovato</em></p>,\n",
       " <p class=\"title-artist\"><cite class=\"title\">Let Me Down Easy</cite><em class=\"artist\">Daisy Jones &amp; The Six</em></p>,\n",
       " <p class=\"title-artist\"><cite class=\"title\">Bonjour</cite><em class=\"artist\">Zoey Dollaz</em></p>,\n",
       " <p class=\"title-artist\"><cite class=\"title\">Human</cite><em class=\"artist\">Cody Johnson</em></p>,\n",
       " <p class=\"title-artist\"><cite class=\"title\">Die For You (Remix)</cite><em class=\"artist\">The Weeknd &amp; Ariana Grande</em></p>,\n",
       " <p class=\"title-artist\"><cite class=\"title\">Boy's a liar, Pt. 2</cite><em class=\"artist\">PinkPantheress &amp; Ice Spice</em></p>,\n",
       " <p class=\"title-artist\"><cite class=\"title\">Bloody Mary</cite><em class=\"artist\">Lady Gaga</em></p>,\n",
       " <p class=\"title-artist\"><cite class=\"title\">Handle On You</cite><em class=\"artist\">Parker McCollum</em></p>,\n",
       " <p class=\"title-artist\"><cite class=\"title\">What He Didn't Do</cite><em class=\"artist\">Carly Pearce</em></p>,\n",
       " <p class=\"title-artist\"><cite class=\"title\">Going, Going, Gone</cite><em class=\"artist\">Luke Combs</em></p>,\n",
       " <p class=\"title-artist\"><cite class=\"title\">golden hour</cite><em class=\"artist\">JVKE</em></p>,\n",
       " <p class=\"title-artist\"><cite class=\"title\">Lavender Haze</cite><em class=\"artist\">Taylor Swift</em></p>,\n",
       " <p class=\"title-artist\"><cite class=\"title\">God Is In This Story</cite><em class=\"artist\">Katy Nichole &amp; Big Daddy Weave</em></p>,\n",
       " <p class=\"title-artist\"><cite class=\"title\">Calm Down</cite><em class=\"artist\">Rema</em></p>,\n",
       " <p class=\"title-artist\"><cite class=\"title\">Escapism.</cite><em class=\"artist\">RAYE &amp; 070 Shake</em></p>,\n",
       " <p class=\"title-artist\"><cite class=\"title\">Ghosts Again</cite><em class=\"artist\">Depeche Mode</em></p>,\n",
       " <p class=\"title-artist\"><cite class=\"title\">I Wrote The Book</cite><em class=\"artist\">Morgan Wallen</em></p>,\n",
       " <p class=\"title-artist\"><cite class=\"title\">Everywhere</cite><em class=\"artist\">Fleetwood Mac</em></p>,\n",
       " <p class=\"title-artist\"><cite class=\"title\">Tennessee Orange</cite><em class=\"artist\">Megan Moroney</em></p>,\n",
       " <p class=\"title-artist\"><cite class=\"title\">I Would Die for You</cite><em class=\"artist\">In This Moment</em></p>,\n",
       " <p class=\"title-artist\"><cite class=\"title\">Change the World</cite><em class=\"artist\">Eric Clapton</em></p>,\n",
       " <p class=\"title-artist\"><cite class=\"title\">10:35</cite><em class=\"artist\">Tiësto &amp; Tate McRae</em></p>,\n",
       " <p class=\"title-artist\"><cite class=\"title\">Creepin'</cite><em class=\"artist\">Metro Boomin, The Weeknd &amp; 21 Savage</em></p>,\n",
       " <p class=\"title-artist\"><cite class=\"title\">Hold On To Me</cite><em class=\"artist\">Lauren Daigle</em></p>,\n",
       " <p class=\"title-artist\"><cite class=\"title\">God Gave Me You</cite><em class=\"artist\">Blake Shelton</em></p>,\n",
       " <p class=\"title-artist\"><cite class=\"title\">Cowgirls (feat. ERNEST)</cite><em class=\"artist\">Morgan Wallen</em></p>,\n",
       " <p class=\"title-artist\"><cite class=\"title\">Heaven</cite><em class=\"artist\">Niall Horan</em></p>,\n",
       " <p class=\"title-artist\"><cite class=\"title\">Forever and Ever, Amen</cite><em class=\"artist\">Randy Travis</em></p>,\n",
       " <p class=\"title-artist\"><cite class=\"title\">Where the Wild Things Are</cite><em class=\"artist\">Luke Combs</em></p>,\n",
       " <p class=\"title-artist\"><cite class=\"title\">Rainbowland (feat. Dolly Parton)</cite><em class=\"artist\">Miley Cyrus</em></p>,\n",
       " <p class=\"title-artist\"><cite class=\"title\">Shivers</cite><em class=\"artist\">Ed Sheeran</em></p>,\n",
       " <p class=\"title-artist\"><cite class=\"title\">The Kind of Love We Make</cite><em class=\"artist\">Luke Combs</em></p>]"
      ]
     },
     "execution_count": 7,
     "metadata": {},
     "output_type": "execute_result"
    }
   ],
   "source": [
    "soup.select(\"div.chart-content.col-xs-12.col-sm-8 > p\")\n",
    "\n",
    "## scraping of the whole"
   ]
  },
  {
   "cell_type": "code",
   "execution_count": 8,
   "id": "7bef3146",
   "metadata": {},
   "outputs": [
    {
     "name": "stdout",
     "output_type": "stream",
     "text": [
      "[<cite class=\"title\">Flowers</cite>, <cite><a href=\"http://www.billboard.com/charts/hot-100\" rel=\"noopener\" target=\"_blank\">Billboard Hot 100</a></cite>, <cite class=\"title\">Last Night</cite>, <cite class=\"title\">Fast Car</cite>, <cite class=\"title\">Like Crazy (Deep House Remix)</cite>, <cite class=\"title\">Like Crazy (UK Garage Remix)</cite>, <cite class=\"title\">Like Crazy (Instrumental)</cite>, <cite class=\"title\">Calm Down</cite>, <cite class=\"title\">Like Crazy (English Version)</cite>, <cite class=\"title\">Like Crazy</cite>, <cite class=\"title\">Justice for All</cite>, <cite class=\"title\">Heart Like A Truck</cite>, <cite class=\"title\">Eyes Closed</cite>, <cite class=\"title\">Fighting Myself</cite>, <cite class=\"title\">You Say</cite>, <cite class=\"title\">Growin' Up and Gettin' Old</cite>, <cite class=\"title\">Thought You Should Know</cite>, <cite class=\"title\">Thinkin’ Bout Me</cite>, <cite class=\"title\">Anti-Hero</cite>, <cite>Billboard Hot 100</cite>, <cite class=\"title\">5 Leaf Clover</cite>, <cite class=\"title\">Love You Anyway</cite>, <cite class=\"title\">Players</cite>, <cite class=\"title\">labour</cite>, <cite class=\"title\">Thank God</cite>, <cite class=\"title\">Thank God I Do</cite>, <cite class=\"title\">More Than Able (feat. Chandler Moore &amp; Tiffany Hudson)</cite>, <cite class=\"title\">God's Country</cite>, <cite class=\"title\">Rock and a Hard Place</cite>, <cite class=\"title\">wait in the truck</cite>, <cite class=\"title\">End of the World</cite>, <cite class=\"title\">This Is Our God</cite>, <cite class=\"title\">Unstoppable</cite>, <cite class=\"title\">Eyes Closed (Piano Version)</cite>, <cite class=\"title\">Favorite Song</cite>, <cite class=\"title\">Face-off</cite>, <cite class=\"title\">Kill Bill</cite>, <cite class=\"title\">I Ain't Worried</cite>, <cite class=\"title\">Rescue</cite>, <cite class=\"title\">Eyes Closed</cite>, <cite class=\"title\">All Of The Girls You Loved Before</cite>, <cite class=\"title\">NEED A FAVOR</cite>, <cite class=\"title\">In Jesus Name (God Of Possible)</cite>, <cite class=\"title\">Alone</cite>, <cite class=\"title\">You Proof</cite>, <cite class=\"title\">Set Me Free, Pt. 2</cite>, <cite class=\"title\">Look At Us Now (Honeycomb)</cite>, <cite class=\"title\">BESO</cite>, <cite class=\"title\">Wasted On You</cite>, <cite class=\"title\">Something in the Orange (Z&amp;E's Version)</cite>, <cite class=\"title\">TRUSTFALL</cite>, <cite class=\"title\">Bright Eyes</cite>, <cite class=\"title\">As It Was</cite>, <cite>Billboard Hot 100</cite>, <cite class=\"title\">Gratitude</cite>, <cite class=\"title\">Sure Thing</cite>, <cite class=\"title\">Interlude : Dive</cite>, <cite class=\"title\">Lift Me Up (From Black Panther: Wakanda Forever - Music From and Inspired By)</cite>, <cite class=\"title\">Chasin' You</cite>, <cite class=\"title\">Tennessee Whiskey</cite>, <cite class=\"title\">Son Of A Sinner</cite>, <cite class=\"title\">Hold My Hand</cite>, <cite class=\"title\">You Raise Me Up</cite>, <cite class=\"title\">Made You Look</cite>, <cite class=\"title\">TQG</cite>, <cite class=\"title\">Lost</cite>, <cite class=\"title\">Mother</cite>, <cite class=\"title\">Dancin’ In The Country</cite>, <cite class=\"title\">One Thing At A Time</cite>, <cite class=\"title\">ICU</cite>, <cite class=\"title\">Unholy</cite>, <cite>Billboard Hot 100</cite>, <cite class=\"title\">Heart Attack (Rock Version)</cite>, <cite class=\"title\">Let Me Down Easy</cite>, <cite class=\"title\">Bonjour</cite>, <cite class=\"title\">Human</cite>, <cite class=\"title\">Die For You (Remix)</cite>, <cite class=\"title\">Boy's a liar, Pt. 2</cite>, <cite class=\"title\">Bloody Mary</cite>, <cite class=\"title\">Handle On You</cite>, <cite class=\"title\">What He Didn't Do</cite>, <cite class=\"title\">Going, Going, Gone</cite>, <cite class=\"title\">golden hour</cite>, <cite class=\"title\">Lavender Haze</cite>, <cite class=\"title\">God Is In This Story</cite>, <cite class=\"title\">Calm Down</cite>, <cite class=\"title\">Escapism.</cite>, <cite class=\"title\">Ghosts Again</cite>, <cite class=\"title\">I Wrote The Book</cite>, <cite class=\"title\">Everywhere</cite>, <cite class=\"title\">Tennessee Orange</cite>, <cite class=\"title\">I Would Die for You</cite>, <cite class=\"title\">Change the World</cite>, <cite class=\"title\">10:35</cite>, <cite class=\"title\">Creepin'</cite>, <cite class=\"title\">Hold On To Me</cite>, <cite class=\"title\">God Gave Me You</cite>, <cite class=\"title\">Cowgirls (feat. ERNEST)</cite>, <cite class=\"title\">Heaven</cite>, <cite class=\"title\">Forever and Ever, Amen</cite>, <cite class=\"title\">Where the Wild Things Are</cite>, <cite class=\"title\">Rainbowland (feat. Dolly Parton)</cite>, <cite class=\"title\">Shivers</cite>, <cite class=\"title\">The Kind of Love We Make</cite>, <cite>The Voice</cite>]\n",
      "[<em class=\"artist\">Miley Cyrus</em>, <em class=\"artist\">Morgan Wallen</em>, <em class=\"artist\">Luke Combs</em>, <em>New Release</em>, <em class=\"artist\">Jimin</em>, <em>New Release</em>, <em class=\"artist\">Jimin</em>, <em>New Release</em>, <em class=\"artist\">Jimin</em>, <em>New Release</em>, <em class=\"artist\">Rema &amp; Selena Gomez</em>, <em class=\"artist\">Jimin</em>, <em>New Release</em>, <em class=\"artist\">Jimin</em>, <em>New Release</em>, <em class=\"artist\">Donald J. Trump &amp; J6 Prison Choir</em>, <em class=\"artist\">Lainey Wilson</em>, <em class=\"artist\">Ed Sheeran</em>, <em>New Release</em>, <em class=\"artist\">LINKIN PARK</em>, <em>New Release</em>, <em class=\"artist\">Lauren Daigle</em>, <em class=\"artist\">Luke Combs</em>, <em class=\"artist\">Morgan Wallen</em>, <em class=\"artist\">Morgan Wallen</em>, <em class=\"artist\">Taylor Swift</em>, <em class=\"artist\">Luke Combs</em>, <em class=\"artist\">Luke Combs</em>, <em class=\"artist\">Coi Leray</em>, <em class=\"artist\">Paris Paloma</em>, <em>New Release</em>, <em class=\"artist\">Kane Brown &amp; Katelyn Brown</em>, <em class=\"artist\">Lauren Daigle</em>, <em class=\"artist\">Elevation Worship</em>, <em>New Release</em>, <em class=\"artist\">Blake Shelton</em>, <em class=\"artist\">Bailey Zimmerman</em>, <em class=\"artist\">HARDY &amp; Lainey Wilson</em>, <em class=\"artist\">Tom MacDonald &amp; John Rich</em>, <em class=\"artist\">Phil Wickham</em>, <em class=\"artist\">Sia</em>, <em class=\"artist\">Ed Sheeran</em>, <em>New Release</em>, <em class=\"artist\">Toosii</em>, <em class=\"artist\">Jimin</em>, <em>New Release</em>, <em class=\"artist\">SZA</em>, <em class=\"artist\">OneRepublic</em>, <em class=\"artist\">Lauren Daigle</em>, <em class=\"artist\">Ed Sheeran</em>, <em>New Release</em>, <em class=\"artist\">Taylor Swift</em>, <em class=\"artist\">Jelly Roll</em>, <em class=\"artist\">Katy Nichole</em>, <em class=\"artist\">Jimin</em>, <em>New Release</em>, <em class=\"artist\">Morgan Wallen</em>, <em class=\"artist\">Jimin</em>, <em class=\"artist\">Daisy Jones &amp; The Six</em>, <em class=\"artist\">ROSALÍA &amp; Rauw Alejandro</em>, <em>New Release</em>, <em class=\"artist\">Morgan Wallen</em>, <em class=\"artist\">Zach Bryan</em>, <em class=\"artist\">P!nk</em>, <em class=\"artist\">Timcast</em>, <em>New Release</em>, <em class=\"artist\">Harry Styles</em>, <em class=\"artist\">Brandon Lake</em>, <em class=\"artist\">Miguel</em>, <em class=\"artist\">Jimin</em>, <em>New Release</em>, <em class=\"artist\">Rihanna</em>, <em class=\"artist\">Morgan Wallen</em>, <em class=\"artist\">Chris Stapleton</em>, <em class=\"artist\">Jelly Roll</em>, <em class=\"artist\">Lady Gaga</em>, <em class=\"artist\">Josh Groban</em>, <em class=\"artist\">Meghan Trainor</em>, <em class=\"artist\">KAROL G &amp; Shakira</em>, <em class=\"artist\">LINKIN PARK</em>, <em class=\"artist\">Meghan Trainor</em>, <em class=\"artist\">Tyler Hubbard</em>, <em class=\"artist\">Morgan Wallen</em>, <em class=\"artist\">Coco Jones</em>, <em class=\"artist\">Sam Smith &amp; Kim Petras</em>, <em class=\"artist\">Demi Lovato</em>, <em>New Release</em>, <em class=\"artist\">Daisy Jones &amp; The Six</em>, <em class=\"artist\">Zoey Dollaz</em>, <em>New Release</em>, <em class=\"artist\">Cody Johnson</em>, <em class=\"artist\">The Weeknd &amp; Ariana Grande</em>, <em class=\"artist\">PinkPantheress &amp; Ice Spice</em>, <em class=\"artist\">Lady Gaga</em>, <em class=\"artist\">Parker McCollum</em>, <em class=\"artist\">Carly Pearce</em>, <em class=\"artist\">Luke Combs</em>, <em class=\"artist\">JVKE</em>, <em class=\"artist\">Taylor Swift</em>, <em class=\"artist\">Katy Nichole &amp; Big Daddy Weave</em>, <em class=\"artist\">Rema</em>, <em class=\"artist\">RAYE &amp; 070 Shake</em>, <em class=\"artist\">Depeche Mode</em>, <em class=\"artist\">Morgan Wallen</em>, <em class=\"artist\">Fleetwood Mac</em>, <em class=\"artist\">Megan Moroney</em>, <em class=\"artist\">In This Moment</em>, <em>New Release</em>, <em class=\"artist\">Eric Clapton</em>, <em class=\"artist\">Tiësto &amp; Tate McRae</em>, <em class=\"artist\">Metro Boomin, The Weeknd &amp; 21 Savage</em>, <em class=\"artist\">Lauren Daigle</em>, <em class=\"artist\">Blake Shelton</em>, <em class=\"artist\">Morgan Wallen</em>, <em class=\"artist\">Niall Horan</em>, <em>New Release</em>, <em class=\"artist\">Randy Travis</em>, <em class=\"artist\">Luke Combs</em>, <em>New Release</em>, <em class=\"artist\">Miley Cyrus</em>, <em class=\"artist\">Ed Sheeran</em>, <em class=\"artist\">Luke Combs</em>]\n"
     ]
    }
   ],
   "source": [
    "titleartist=soup.select(\"cite\")\n",
    "title = soup.select(\"em\")\n",
    "\n",
    "print(titleartist)\n",
    "print(title)\n",
    "\n",
    "## made two lists that contain names and titles "
   ]
  },
  {
   "cell_type": "code",
   "execution_count": 10,
   "id": "620771a4",
   "metadata": {},
   "outputs": [
    {
     "ename": "IndexError",
     "evalue": "list index out of range",
     "output_type": "error",
     "traceback": [
      "\u001b[1;31m---------------------------------------------------------------------------\u001b[0m",
      "\u001b[1;31mIndexError\u001b[0m                                Traceback (most recent call last)",
      "\u001b[1;32m~\\AppData\\Local\\Temp\\ipykernel_19636\\2916630087.py\u001b[0m in \u001b[0;36m<module>\u001b[1;34m\u001b[0m\n\u001b[0;32m     13\u001b[0m \u001b[1;31m# iterate through the result set and retrive all the data\u001b[0m\u001b[1;33m\u001b[0m\u001b[1;33m\u001b[0m\u001b[0m\n\u001b[0;32m     14\u001b[0m \u001b[1;32mfor\u001b[0m \u001b[0mi\u001b[0m \u001b[1;32min\u001b[0m \u001b[0mrange\u001b[0m\u001b[1;33m(\u001b[0m\u001b[0mnum_iter\u001b[0m\u001b[1;33m)\u001b[0m\u001b[1;33m:\u001b[0m\u001b[1;33m\u001b[0m\u001b[1;33m\u001b[0m\u001b[0m\n\u001b[1;32m---> 15\u001b[1;33m     \u001b[0mtitle\u001b[0m\u001b[1;33m.\u001b[0m\u001b[0mappend\u001b[0m\u001b[1;33m(\u001b[0m\u001b[0mtClist\u001b[0m\u001b[1;33m[\u001b[0m\u001b[0mi\u001b[0m\u001b[1;33m]\u001b[0m\u001b[1;33m.\u001b[0m\u001b[0mget_text\u001b[0m\u001b[1;33m(\u001b[0m\u001b[1;33m)\u001b[0m\u001b[1;33m)\u001b[0m\u001b[1;33m\u001b[0m\u001b[1;33m\u001b[0m\u001b[0m\n\u001b[0m\u001b[0;32m     16\u001b[0m     \u001b[0martist\u001b[0m\u001b[1;33m.\u001b[0m\u001b[0mappend\u001b[0m\u001b[1;33m(\u001b[0m\u001b[0mspanlist\u001b[0m\u001b[1;33m[\u001b[0m\u001b[0mi\u001b[0m\u001b[1;33m]\u001b[0m\u001b[1;33m.\u001b[0m\u001b[0mget_text\u001b[0m\u001b[1;33m(\u001b[0m\u001b[1;33m)\u001b[0m\u001b[1;33m)\u001b[0m\u001b[1;33m\u001b[0m\u001b[1;33m\u001b[0m\u001b[0m\n\u001b[0;32m     17\u001b[0m \u001b[1;33m\u001b[0m\u001b[0m\n",
      "\u001b[1;31mIndexError\u001b[0m: list index out of range"
     ]
    }
   ],
   "source": [
    "#initialize empty lists\n",
    "title = []\n",
    "artist = []\n",
    "\n",
    "\n",
    "# define the number of iterations of our for loop\n",
    "# by checking how many elements are in the retrieved result set\n",
    "# (this is equivalent but more robust than just explicitly defining 250 iterations)\n",
    "num_iter = 130\n",
    "\n",
    "tClist = soup.select(\"cite\")\n",
    "spanlist = soup.select(\"em\")\n",
    "# iterate through the result set and retrive all the data\n",
    "for i in range(num_iter):\n",
    "    title.append(tClist[i].get_text())\n",
    "    artist.append(spanlist[i].get_text())\n",
    "\n",
    "print(title)\n",
    "print(artist)\n",
    "## the lengths are not equal as one is 121 and the other is a bit lower "
   ]
  },
  {
   "cell_type": "code",
   "execution_count": 11,
   "id": "4b946c59",
   "metadata": {},
   "outputs": [],
   "source": [
    "songs = pd.DataFrame({ \"artist_name\":artist,\n",
    "                        \"title\":title\n",
    "                      })"
   ]
  },
  {
   "cell_type": "code",
   "execution_count": 12,
   "id": "1df13499",
   "metadata": {},
   "outputs": [
    {
     "data": {
      "text/html": [
       "<div>\n",
       "<style scoped>\n",
       "    .dataframe tbody tr th:only-of-type {\n",
       "        vertical-align: middle;\n",
       "    }\n",
       "\n",
       "    .dataframe tbody tr th {\n",
       "        vertical-align: top;\n",
       "    }\n",
       "\n",
       "    .dataframe thead th {\n",
       "        text-align: right;\n",
       "    }\n",
       "</style>\n",
       "<table border=\"1\" class=\"dataframe\">\n",
       "  <thead>\n",
       "    <tr style=\"text-align: right;\">\n",
       "      <th></th>\n",
       "      <th>artist_name</th>\n",
       "      <th>title</th>\n",
       "    </tr>\n",
       "  </thead>\n",
       "  <tbody>\n",
       "    <tr>\n",
       "      <th>0</th>\n",
       "      <td>Miley Cyrus</td>\n",
       "      <td>Flowers</td>\n",
       "    </tr>\n",
       "    <tr>\n",
       "      <th>1</th>\n",
       "      <td>Morgan Wallen</td>\n",
       "      <td>Billboard Hot 100</td>\n",
       "    </tr>\n",
       "    <tr>\n",
       "      <th>2</th>\n",
       "      <td>Luke Combs</td>\n",
       "      <td>Last Night</td>\n",
       "    </tr>\n",
       "    <tr>\n",
       "      <th>3</th>\n",
       "      <td>New Release</td>\n",
       "      <td>Fast Car</td>\n",
       "    </tr>\n",
       "    <tr>\n",
       "      <th>4</th>\n",
       "      <td>Jimin</td>\n",
       "      <td>Like Crazy (Deep House Remix)</td>\n",
       "    </tr>\n",
       "    <tr>\n",
       "      <th>...</th>\n",
       "      <td>...</td>\n",
       "      <td>...</td>\n",
       "    </tr>\n",
       "    <tr>\n",
       "      <th>100</th>\n",
       "      <td>Rema</td>\n",
       "      <td>Where the Wild Things Are</td>\n",
       "    </tr>\n",
       "    <tr>\n",
       "      <th>101</th>\n",
       "      <td>RAYE &amp; 070 Shake</td>\n",
       "      <td>Rainbowland (feat. Dolly Parton)</td>\n",
       "    </tr>\n",
       "    <tr>\n",
       "      <th>102</th>\n",
       "      <td>Depeche Mode</td>\n",
       "      <td>Shivers</td>\n",
       "    </tr>\n",
       "    <tr>\n",
       "      <th>103</th>\n",
       "      <td>Morgan Wallen</td>\n",
       "      <td>The Kind of Love We Make</td>\n",
       "    </tr>\n",
       "    <tr>\n",
       "      <th>104</th>\n",
       "      <td>Fleetwood Mac</td>\n",
       "      <td>The Voice</td>\n",
       "    </tr>\n",
       "  </tbody>\n",
       "</table>\n",
       "<p>105 rows × 2 columns</p>\n",
       "</div>"
      ],
      "text/plain": [
       "          artist_name                             title\n",
       "0         Miley Cyrus                           Flowers\n",
       "1       Morgan Wallen                 Billboard Hot 100\n",
       "2          Luke Combs                        Last Night\n",
       "3         New Release                          Fast Car\n",
       "4               Jimin     Like Crazy (Deep House Remix)\n",
       "..                ...                               ...\n",
       "100              Rema         Where the Wild Things Are\n",
       "101  RAYE & 070 Shake  Rainbowland (feat. Dolly Parton)\n",
       "102      Depeche Mode                           Shivers\n",
       "103     Morgan Wallen          The Kind of Love We Make\n",
       "104     Fleetwood Mac                         The Voice\n",
       "\n",
       "[105 rows x 2 columns]"
      ]
     },
     "execution_count": 12,
     "metadata": {},
     "output_type": "execute_result"
    }
   ],
   "source": [
    "songs\n",
    "\n",
    "## I noticed already in the code a Billboard Hot 100 and new release that I dont know where it came from \n",
    "## will ask in class "
   ]
  },
  {
   "cell_type": "code",
   "execution_count": null,
   "id": "63d4c3e4",
   "metadata": {},
   "outputs": [],
   "source": []
  }
 ],
 "metadata": {
  "kernelspec": {
   "display_name": "Python 3 (ipykernel)",
   "language": "python",
   "name": "python3"
  },
  "language_info": {
   "codemirror_mode": {
    "name": "ipython",
    "version": 3
   },
   "file_extension": ".py",
   "mimetype": "text/x-python",
   "name": "python",
   "nbconvert_exporter": "python",
   "pygments_lexer": "ipython3",
   "version": "3.9.13"
  }
 },
 "nbformat": 4,
 "nbformat_minor": 5
}
