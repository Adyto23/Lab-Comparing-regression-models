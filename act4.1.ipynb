{
 "cells": [
  {
   "cell_type": "code",
   "execution_count": 1,
   "id": "808862ee",
   "metadata": {},
   "outputs": [],
   "source": [
    "import pandas as pd\n",
    "import seaborn as sns\n",
    "import matplotlib.pyplot as plt\n",
    "import numpy as np"
   ]
  },
  {
   "cell_type": "code",
   "execution_count": 3,
   "id": "75635dea",
   "metadata": {},
   "outputs": [
    {
     "data": {
      "text/plain": [
       "(90569, 28)"
      ]
     },
     "metadata": {},
     "output_type": "display_data"
    },
    {
     "data": {
      "text/html": [
       "<div>\n",
       "<style scoped>\n",
       "    .dataframe tbody tr th:only-of-type {\n",
       "        vertical-align: middle;\n",
       "    }\n",
       "\n",
       "    .dataframe tbody tr th {\n",
       "        vertical-align: top;\n",
       "    }\n",
       "\n",
       "    .dataframe thead th {\n",
       "        text-align: right;\n",
       "    }\n",
       "</style>\n",
       "<table border=\"1\" class=\"dataframe\">\n",
       "  <thead>\n",
       "    <tr style=\"text-align: right;\">\n",
       "      <th></th>\n",
       "      <th>STATE</th>\n",
       "      <th>PVASTATE</th>\n",
       "      <th>DOB</th>\n",
       "      <th>MDMAUD</th>\n",
       "      <th>RECP3</th>\n",
       "      <th>GENDER</th>\n",
       "      <th>DOMAIN</th>\n",
       "      <th>INCOME</th>\n",
       "      <th>HOMEOWNR</th>\n",
       "      <th>HV1</th>\n",
       "      <th>...</th>\n",
       "      <th>VETERANS</th>\n",
       "      <th>NUMPROM</th>\n",
       "      <th>CARDPROM</th>\n",
       "      <th>CARDPM12</th>\n",
       "      <th>NUMPRM12</th>\n",
       "      <th>MAXADATE</th>\n",
       "      <th>RFA_2</th>\n",
       "      <th>NGIFTALL</th>\n",
       "      <th>TIMELAG</th>\n",
       "      <th>AVGGIFT</th>\n",
       "    </tr>\n",
       "  </thead>\n",
       "  <tbody>\n",
       "    <tr>\n",
       "      <th>0</th>\n",
       "      <td>IL</td>\n",
       "      <td></td>\n",
       "      <td>3712</td>\n",
       "      <td>XXXX</td>\n",
       "      <td></td>\n",
       "      <td>F</td>\n",
       "      <td>T2</td>\n",
       "      <td>NaN</td>\n",
       "      <td></td>\n",
       "      <td>479</td>\n",
       "      <td>...</td>\n",
       "      <td></td>\n",
       "      <td>74</td>\n",
       "      <td>27</td>\n",
       "      <td>6</td>\n",
       "      <td>14</td>\n",
       "      <td>9702</td>\n",
       "      <td>L4E</td>\n",
       "      <td>31</td>\n",
       "      <td>4.0</td>\n",
       "      <td>7.741935</td>\n",
       "    </tr>\n",
       "    <tr>\n",
       "      <th>1</th>\n",
       "      <td>CA</td>\n",
       "      <td></td>\n",
       "      <td>5202</td>\n",
       "      <td>XXXX</td>\n",
       "      <td></td>\n",
       "      <td>M</td>\n",
       "      <td>S1</td>\n",
       "      <td>6.0</td>\n",
       "      <td>H</td>\n",
       "      <td>5468</td>\n",
       "      <td>...</td>\n",
       "      <td></td>\n",
       "      <td>32</td>\n",
       "      <td>12</td>\n",
       "      <td>6</td>\n",
       "      <td>13</td>\n",
       "      <td>9702</td>\n",
       "      <td>L2G</td>\n",
       "      <td>3</td>\n",
       "      <td>18.0</td>\n",
       "      <td>15.666667</td>\n",
       "    </tr>\n",
       "    <tr>\n",
       "      <th>2</th>\n",
       "      <td>NC</td>\n",
       "      <td></td>\n",
       "      <td>0</td>\n",
       "      <td>XXXX</td>\n",
       "      <td></td>\n",
       "      <td>M</td>\n",
       "      <td>R2</td>\n",
       "      <td>3.0</td>\n",
       "      <td>U</td>\n",
       "      <td>497</td>\n",
       "      <td>...</td>\n",
       "      <td></td>\n",
       "      <td>63</td>\n",
       "      <td>26</td>\n",
       "      <td>6</td>\n",
       "      <td>14</td>\n",
       "      <td>9702</td>\n",
       "      <td>L4E</td>\n",
       "      <td>27</td>\n",
       "      <td>12.0</td>\n",
       "      <td>7.481481</td>\n",
       "    </tr>\n",
       "    <tr>\n",
       "      <th>3</th>\n",
       "      <td>CA</td>\n",
       "      <td></td>\n",
       "      <td>2801</td>\n",
       "      <td>XXXX</td>\n",
       "      <td></td>\n",
       "      <td>F</td>\n",
       "      <td>R2</td>\n",
       "      <td>1.0</td>\n",
       "      <td>U</td>\n",
       "      <td>1000</td>\n",
       "      <td>...</td>\n",
       "      <td></td>\n",
       "      <td>66</td>\n",
       "      <td>27</td>\n",
       "      <td>6</td>\n",
       "      <td>14</td>\n",
       "      <td>9702</td>\n",
       "      <td>L4E</td>\n",
       "      <td>16</td>\n",
       "      <td>9.0</td>\n",
       "      <td>6.812500</td>\n",
       "    </tr>\n",
       "    <tr>\n",
       "      <th>4</th>\n",
       "      <td>FL</td>\n",
       "      <td></td>\n",
       "      <td>2001</td>\n",
       "      <td>XXXX</td>\n",
       "      <td>X</td>\n",
       "      <td>F</td>\n",
       "      <td>S2</td>\n",
       "      <td>3.0</td>\n",
       "      <td>H</td>\n",
       "      <td>576</td>\n",
       "      <td>...</td>\n",
       "      <td></td>\n",
       "      <td>113</td>\n",
       "      <td>43</td>\n",
       "      <td>10</td>\n",
       "      <td>25</td>\n",
       "      <td>9702</td>\n",
       "      <td>L2F</td>\n",
       "      <td>37</td>\n",
       "      <td>14.0</td>\n",
       "      <td>6.864865</td>\n",
       "    </tr>\n",
       "  </tbody>\n",
       "</table>\n",
       "<p>5 rows × 28 columns</p>\n",
       "</div>"
      ],
      "text/plain": [
       "  STATE PVASTATE   DOB MDMAUD RECP3 GENDER DOMAIN  INCOME HOMEOWNR   HV1  ...  \\\n",
       "0    IL           3712   XXXX            F     T2     NaN            479  ...   \n",
       "1    CA           5202   XXXX            M     S1     6.0        H  5468  ...   \n",
       "2    NC              0   XXXX            M     R2     3.0        U   497  ...   \n",
       "3    CA           2801   XXXX            F     R2     1.0        U  1000  ...   \n",
       "4    FL           2001   XXXX     X      F     S2     3.0        H   576  ...   \n",
       "\n",
       "   VETERANS  NUMPROM  CARDPROM  CARDPM12  NUMPRM12  MAXADATE  RFA_2  NGIFTALL  \\\n",
       "0                 74        27         6        14      9702    L4E        31   \n",
       "1                 32        12         6        13      9702    L2G         3   \n",
       "2                 63        26         6        14      9702    L4E        27   \n",
       "3                 66        27         6        14      9702    L4E        16   \n",
       "4                113        43        10        25      9702    L2F        37   \n",
       "\n",
       "  TIMELAG    AVGGIFT  \n",
       "0     4.0   7.741935  \n",
       "1    18.0  15.666667  \n",
       "2    12.0   7.481481  \n",
       "3     9.0   6.812500  \n",
       "4    14.0   6.864865  \n",
       "\n",
       "[5 rows x 28 columns]"
      ]
     },
     "execution_count": 3,
     "metadata": {},
     "output_type": "execute_result"
    }
   ],
   "source": [
    "data = pd.read_csv('unit4.csv')\n",
    "display(data.shape)\n",
    "data.head()"
   ]
  },
  {
   "cell_type": "code",
   "execution_count": 28,
   "id": "c981e670",
   "metadata": {},
   "outputs": [
    {
     "data": {
      "text/plain": [
       "F    48668\n",
       "M    37132\n",
       "      2795\n",
       "U     1635\n",
       "J      336\n",
       "C        2\n",
       "A        1\n",
       "Name: GENDER, dtype: int64"
      ]
     },
     "execution_count": 28,
     "metadata": {},
     "output_type": "execute_result"
    }
   ],
   "source": [
    "data.GENDER.value_counts(dropna=False)"
   ]
  },
  {
   "cell_type": "code",
   "execution_count": 21,
   "id": "d621eeca",
   "metadata": {},
   "outputs": [
    {
     "data": {
      "text/plain": [
       "H    49646\n",
       "     21051\n",
       "U    19872\n",
       "Name: HOMEOWNR, dtype: int64"
      ]
     },
     "execution_count": 21,
     "metadata": {},
     "output_type": "execute_result"
    }
   ],
   "source": [
    "data.HOMEOWNR.value_counts(dropna=False)"
   ]
  },
  {
   "cell_type": "code",
   "execution_count": 12,
   "id": "c67206a7",
   "metadata": {},
   "outputs": [
    {
     "data": {
      "text/plain": [
       "HOMEOWNR    0\n",
       "dtype: int64"
      ]
     },
     "execution_count": 12,
     "metadata": {},
     "output_type": "execute_result"
    }
   ],
   "source": [
    "data[['HOMEOWNR']].isnull().sum()"
   ]
  },
  {
   "cell_type": "code",
   "execution_count": 15,
   "id": "07a798f9",
   "metadata": {},
   "outputs": [
    {
     "data": {
      "text/html": [
       "<div>\n",
       "<style scoped>\n",
       "    .dataframe tbody tr th:only-of-type {\n",
       "        vertical-align: middle;\n",
       "    }\n",
       "\n",
       "    .dataframe tbody tr th {\n",
       "        vertical-align: top;\n",
       "    }\n",
       "\n",
       "    .dataframe thead th {\n",
       "        text-align: right;\n",
       "    }\n",
       "</style>\n",
       "<table border=\"1\" class=\"dataframe\">\n",
       "  <thead>\n",
       "    <tr style=\"text-align: right;\">\n",
       "      <th></th>\n",
       "      <th>HOMEOWNR</th>\n",
       "    </tr>\n",
       "  </thead>\n",
       "  <tbody>\n",
       "    <tr>\n",
       "      <th>0</th>\n",
       "      <td></td>\n",
       "    </tr>\n",
       "    <tr>\n",
       "      <th>1</th>\n",
       "      <td>H</td>\n",
       "    </tr>\n",
       "    <tr>\n",
       "      <th>2</th>\n",
       "      <td>U</td>\n",
       "    </tr>\n",
       "    <tr>\n",
       "      <th>3</th>\n",
       "      <td>U</td>\n",
       "    </tr>\n",
       "    <tr>\n",
       "      <th>4</th>\n",
       "      <td>H</td>\n",
       "    </tr>\n",
       "  </tbody>\n",
       "</table>\n",
       "</div>"
      ],
      "text/plain": [
       "  HOMEOWNR\n",
       "0         \n",
       "1        H\n",
       "2        U\n",
       "3        U\n",
       "4        H"
      ]
     },
     "execution_count": 15,
     "metadata": {},
     "output_type": "execute_result"
    }
   ],
   "source": [
    "data[['HOMEOWNR']].head()"
   ]
  },
  {
   "cell_type": "code",
   "execution_count": 36,
   "id": "1859d8b9",
   "metadata": {},
   "outputs": [
    {
     "data": {
      "text/plain": [
       "H    49646\n",
       "     21051\n",
       "U    19872\n",
       "Name: HOMEOWNR, dtype: int64"
      ]
     },
     "execution_count": 36,
     "metadata": {},
     "output_type": "execute_result"
    }
   ],
   "source": [
    "data.HOMEOWNR.value_counts(dropna=False)"
   ]
  },
  {
   "cell_type": "code",
   "execution_count": 43,
   "id": "d180331b",
   "metadata": {},
   "outputs": [
    {
     "data": {
      "text/plain": [
       "H    49646\n",
       "N    21051\n",
       "U    19872\n",
       "Name: HOMEOWNR, dtype: int64"
      ]
     },
     "execution_count": 43,
     "metadata": {},
     "output_type": "execute_result"
    }
   ],
   "source": [
    "data[\"HOMEOWNR\"]=np.where(data[\"HOMEOWNR\"].str.contains(' '),\"N\",data[\"HOMEOWNR\"])\n",
    "data.HOMEOWNR.value_counts(dropna=False)"
   ]
  },
  {
   "cell_type": "code",
   "execution_count": 37,
   "id": "4a81c185",
   "metadata": {},
   "outputs": [
    {
     "data": {
      "text/plain": [
       "Index(['H', ' ', 'U'], dtype='object')"
      ]
     },
     "execution_count": 37,
     "metadata": {},
     "output_type": "execute_result"
    }
   ],
   "source": [
    "data.HOMEOWNR.value_counts(dropna=False).index"
   ]
  },
  {
   "cell_type": "code",
   "execution_count": 29,
   "id": "ef6b35f5",
   "metadata": {},
   "outputs": [
    {
     "data": {
      "text/plain": [
       "XXXX    90290\n",
       "C1CM       59\n",
       "L1CM       44\n",
       "I1CM       34\n",
       "D2CM       27\n",
       "C2CM       23\n",
       "D1CM       19\n",
       "L2CM       14\n",
       "C1LM        8\n",
       "L1LM        8\n",
       "I2CM        7\n",
       "D5CM        5\n",
       "D5MM        5\n",
       "D2MM        4\n",
       "I1LM        3\n",
       "D5TM        3\n",
       "C2MM        3\n",
       "C5CM        3\n",
       "C2LM        2\n",
       "C1MM        1\n",
       "I2MM        1\n",
       "I5CM        1\n",
       "I5MM        1\n",
       "C5MM        1\n",
       "L1MM        1\n",
       "C5TM        1\n",
       "L2TM        1\n",
       "Name: MDMAUD, dtype: int64"
      ]
     },
     "execution_count": 29,
     "metadata": {},
     "output_type": "execute_result"
    }
   ],
   "source": [
    "data.MDMAUD.value_counts(dropna=False)"
   ]
  },
  {
   "cell_type": "code",
   "execution_count": 31,
   "id": "60faa5a5",
   "metadata": {},
   "outputs": [],
   "source": [
    "data[\"MDMAUD\"]=np.where(data[\"MDMAUD\"]!= \"XXXX\", \"other\", \"XXXX\")"
   ]
  },
  {
   "cell_type": "code",
   "execution_count": 33,
   "id": "06776ea3",
   "metadata": {},
   "outputs": [
    {
     "data": {
      "text/plain": [
       "XXXX     90290\n",
       "other      279\n",
       "Name: MDMAUD, dtype: int64"
      ]
     },
     "execution_count": 33,
     "metadata": {},
     "output_type": "execute_result"
    }
   ],
   "source": [
    "data[\"MDMAUD\"].value_counts(dropna=False)"
   ]
  },
  {
   "cell_type": "code",
   "execution_count": null,
   "id": "301146b4",
   "metadata": {},
   "outputs": [],
   "source": []
  }
 ],
 "metadata": {
  "kernelspec": {
   "display_name": "Python 3 (ipykernel)",
   "language": "python",
   "name": "python3"
  },
  "language_info": {
   "codemirror_mode": {
    "name": "ipython",
    "version": 3
   },
   "file_extension": ".py",
   "mimetype": "text/x-python",
   "name": "python",
   "nbconvert_exporter": "python",
   "pygments_lexer": "ipython3",
   "version": "3.9.13"
  }
 },
 "nbformat": 4,
 "nbformat_minor": 5
}
